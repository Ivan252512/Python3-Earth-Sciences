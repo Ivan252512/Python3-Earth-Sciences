{
 "cells": [
  {
   "cell_type": "markdown",
   "metadata": {},
   "source": [
    "# Histogramas"
   ]
  },
  {
   "cell_type": "markdown",
   "metadata": {},
   "source": [
    "#### Documentación\n",
    "https://docs.scipy.org/doc/numpy/reference/generated/numpy.histogram.html"
   ]
  },
  {
   "cell_type": "code",
   "execution_count": 86,
   "metadata": {},
   "outputs": [
    {
     "data": {
      "image/png": "[encoded data removed]",
      "text/plain": [
       "<matplotlib.figure.Figure at 0xb879b07358>"
      ]
     },
     "metadata": {},
     "output_type": "display_data"
    }
   ],
   "source": [
    "import matplotlib.pyplot as plt\n",
    "import numpy as np\n",
    "\n",
    "\n",
    "a=[226, 146, 159, 204, 216, 229, 233, 237, 253, 245, 248, 236, 231, 208, 211, 217,240, 196, 186, 133, 197, 219, 234, 241, 255, 250, 255, 255, 237, 208, 229, 220,\n",
    "190, 204, 254, 139, 233, 228, 220, 240, 245, 255, 255, 255, 255, 245, 238, 176, 88, 137, 250, 197, 201, 200, 152, 229, 240, 229, 205, 205, 234, 214, 254, 234,\n",
    "113, 59, 180, 147, 128, 148, 228, 253, 209, 228, 226, 203, 218, 181, 234, 225, 74, 74, 168, 135, 126, 178, 173, 206, 229, 233, 185, 218, 255, 167, 143, 165,\n",
    "157, 126, 93, 66, 99, 122, 175, 174, 175, 203, 240, 231, 222, 196, 205, 208, 110, 115, 112, 31, 55, 119, 177, 218, 177, 186, 192, 248, 164, 138, 186, 209,\n",
    "112, 130, 161, 158, 84, 146, 171, 179, 188, 179, 137, 214, 116, 125, 175, 216, 53, 113, 155, 121, 104, 107, 114, 144, 200, 150, 172, 199, 133, 161, 240, 240,\n",
    "43, 44, 54, 126, 99, 97, 96, 175, 164, 195, 240, 188, 165, 197, 236, 253, 42, 49, 73, 122, 107, 91, 121, 55, 78, 120, 150, 162, 129, 194, 186, 232, 36,34,  46,  77,  76,  43,  35,  38,  72,  68, 106, 130, 132, 174, 194, 218,38,  35,  41,  58,  47,  43,  31,  44,  79,  70,  63,  49, 165, 126, 197, 211,84,  36,  47,  41,  41,  36,  34,  51,  84, 144,  52, 135, 117, 108, 214, 232,39,  46,  37,  41,  47,  55,  40,  40, 118,  55,  88, 115, 101, 187, 240, 209]\n",
    "    \n",
    "plt.hist(a,256)        \n",
    "plt.title(\"Histograma lineal\")\n",
    "plt.xlabel(\"Valor\")\n",
    "plt.ylabel(\"Frecuencia\")\n",
    "\n",
    "plt.show()\n"
   ]
  },
  {
   "cell_type": "code",
   "execution_count": 87,
   "metadata": {},
   "outputs": [
    {
     "data": {
      "image/png": "[encoded data removed]",
      "text/plain": [
       "<matplotlib.figure.Figure at 0xb87a031518>"
      ]
     },
     "metadata": {},
     "output_type": "display_data"
    }
   ],
   "source": [
    "import matplotlib.pyplot as plt\n",
    "import numpy as np\n",
    "\n",
    "\n",
    "a=[226, 146, 159, 204, 216, 229, 233, 237, 253, 245, 248, 236, 231, 208, 211, 217,240, 196, 186, 133, 197, 219, 234, 241, 255, 250, 255, 255, 237, 208, 229, 220,\n",
    "190, 204, 254, 139, 233, 228, 220, 240, 245, 255, 255, 255, 255, 245, 238, 176, 88, 137, 250, 197, 201, 200, 152, 229, 240, 229, 205, 205, 234, 214, 254, 234,\n",
    "113, 59, 180, 147, 128, 148, 228, 253, 209, 228, 226, 203, 218, 181, 234, 225, 74, 74, 168, 135, 126, 178, 173, 206, 229, 233, 185, 218, 255, 167, 143, 165,\n",
    "157, 126, 93, 66, 99, 122, 175, 174, 175, 203, 240, 231, 222, 196, 205, 208, 110, 115, 112, 31, 55, 119, 177, 218, 177, 186, 192, 248, 164, 138, 186, 209,\n",
    "112, 130, 161, 158, 84, 146, 171, 179, 188, 179, 137, 214, 116, 125, 175, 216, 53, 113, 155, 121, 104, 107, 114, 144, 200, 150, 172, 199, 133, 161, 240, 240,\n",
    "43, 44, 54, 126, 99, 97, 96, 175, 164, 195, 240, 188, 165, 197, 236, 253, 42, 49, 73, 122, 107, 91, 121, 55, 78, 120, 150, 162, 129, 194, 186, 232,36,  34,  46,  77,  76,  43,  35,  38,  72,  68, 106, 130, 132, 174, 194, 218,38,  35,  41,  58,  47,  43,  31,  44,  79,  70,  63,  49, 165, 126, 197, 211,84,  36,  47,  41,  41,  36,  34,  51,  84, 144,  52, 135, 117, 108, 214, 232,39,  46,  37,  41,  47,  55,  40,  40, 118,  55,  88, 115, 101, 187, 240, 209]\n",
    "\n",
    "#cada bin tiene la misma frecuencia 256/6=42.66\n",
    "plt.hist(a,bins=[31,63,121,167,203,232,255],color='red', edgecolor='k')\n",
    "plt.title(\"Histograma equal-area\")\n",
    "plt.xlabel(\"Valor\")\n",
    "plt.ylabel(\"Frecuencia\")\n",
    "\n",
    "\n",
    "plt.show()\n"
   ]
  }
 ],
 "metadata": {
  "kernelspec": {
   "display_name": "Python 3",
   "language": "python",
   "name": "python3"
  },
  "language_info": {
   "codemirror_mode": {
    "name": "ipython",
    "version": 3
   },
   "file_extension": ".py",
   "mimetype": "text/x-python",
   "name": "python",
   "nbconvert_exporter": "python",
   "pygments_lexer": "ipython3",
   "version": "3.6.1"
  }
 },
 "nbformat": 4,
 "nbformat_minor": 2
}
