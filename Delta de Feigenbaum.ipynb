{
 "cells": [
  {
   "cell_type": "code",
   "execution_count": 8,
   "metadata": {},
   "outputs": [
    {
     "name": "stdout",
     "output_type": "stream",
     "text": [
      "Cálculo de d de Feigenbaum:\n",
      "i  d\n",
      "2 3.2185114220380866\n",
      "3 4.3856775985683365\n",
      "4 4.600949276538056\n",
      "5 4.6551304953919646\n",
      "6 4.666111947822846\n",
      "7 4.668548581451485\n",
      "8 4.66906066077106\n",
      "9 4.669171554514976\n",
      "10 4.669195154039278\n",
      "11 4.669200256503637\n",
      "12 4.669200975097843\n"
     ]
    }
   ],
   "source": [
    "print ('Cálculo de d de Feigenbaum:')\n",
    "\n",
    "#Número de Iteraciones\n",
    "maxIt= 13\n",
    "maxItJ= 10\n",
    "\n",
    "#Longitud de lambda\n",
    "a_1= 1.0\n",
    "a_2= 0.0\n",
    "d_1= 3.2\n",
    "\n",
    "print('i ', 'd')\n",
    "\n",
    "for i in range(2, maxIt):\n",
    "    \n",
    "    a = a_1 + (a_1 - a_2) / d_1\n",
    "    \n",
    "    for j in range(maxItJ):\n",
    "        x = 0\n",
    "        y = 0\n",
    "        \n",
    "        for k in range(2 ** i):\n",
    "            y = 1 - 2 * y * x\n",
    "            x = a - x * x      \n",
    "        a = a - x / y\n",
    "        \n",
    "    d = (a_1 - a_2) / (a - a_1)\n",
    "    \n",
    "    print (i, d)\n",
    "    d_1 = d\n",
    "    a_2 = a_1\n",
    "    a_1 = a"
   ]
  },
  {
   "cell_type": "code",
   "execution_count": null,
   "metadata": {
    "collapsed": true
   },
   "outputs": [],
   "source": []
  }
 ],
 "metadata": {
  "kernelspec": {
   "display_name": "Python 3",
   "language": "python",
   "name": "python3"
  },
  "language_info": {
   "codemirror_mode": {
    "name": "ipython",
    "version": 3
   },
   "file_extension": ".py",
   "mimetype": "text/x-python",
   "name": "python",
   "nbconvert_exporter": "python",
   "pygments_lexer": "ipython3",
   "version": "3.6.1"
  }
 },
 "nbformat": 4,
 "nbformat_minor": 2
}
