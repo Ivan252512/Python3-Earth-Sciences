{
 "cells": [
  {
   "cell_type": "code",
   "execution_count": 184,
   "metadata": {},
   "outputs": [
    {
     "name": "stdout",
     "output_type": "stream",
     "text": [
      "0.000144846710824 0.000144847705363 0.000144847704917\n"
     ]
    }
   ],
   "source": [
    "#Importando librerías\n",
    "import numpy as np\n",
    "import matplotlib.pyplot as plt\n",
    "\n",
    "#Definiendo constantes\n",
    "omega=7.27*10**(-5)\n",
    "R=6.371*10**(6)\n",
    "y=500 #considerando que y<<R\n",
    "latitud=np.linspace(0,np.pi/2,90)\n",
    "\n",
    "#Aproximación fo\n",
    "f0=2*omega*np.sin(latitud)\n",
    "#Aproximación beta\n",
    "f1=f0+2*(omega/R)*np.cos(latitud)*y\n",
    "#Aproximación gamma\n",
    "f2=f1-(omega/R**(2))*np.sin(latitud)*y**(2)\n",
    "\n",
    "\n",
    "plt.plot(latitud,f0,color='k',linewidth=1,label='fo')\n",
    "plt.plot(latitud,f1,color='y',linewidth=1,label='beta')\n",
    "plt.plot(latitud,f2,color='b',linewidth=1,label='gamma')\n",
    "plt.title('Aproximaciones al Parámetro de Coriolis con y=500')\n",
    "plt.xlabel('Latitud [rad]')\n",
    "plt.ylabel('Parámetro de Coriolis [1/s]')\n",
    "plt.grid(True)\n",
    "plt.legend(bbox_to_anchor=(1, 1), loc=3, borderaxespad=1)\n",
    "#plt.show()\n",
    "\n",
    "#para obtener los valores de f\n",
    "f0=2*omega*np.sin(1.48353)\n",
    "f1=f0+2*(omega/R)*np.cos(1.48353)*y\n",
    "f2=f1-(omega/R**(2))*np.sin(1.48353)*y**(2)\n",
    "print(f0,f1,f2)\n"
   ]
  },
  {
   "cell_type": "code",
   "execution_count": null,
   "metadata": {
    "collapsed": true
   },
   "outputs": [],
   "source": []
  }
 ],
 "metadata": {
  "kernelspec": {
   "display_name": "Python 3",
   "language": "python",
   "name": "python3"
  },
  "language_info": {
   "codemirror_mode": {
    "name": "ipython",
    "version": 3
   },
   "file_extension": ".py",
   "mimetype": "text/x-python",
   "name": "python",
   "nbconvert_exporter": "python",
   "pygments_lexer": "ipython3",
   "version": "3.6.1"
  }
 },
 "nbformat": 4,
 "nbformat_minor": 2
}
